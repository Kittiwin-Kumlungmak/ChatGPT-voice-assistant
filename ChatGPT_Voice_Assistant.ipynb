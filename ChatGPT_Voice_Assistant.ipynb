{
  "nbformat": 4,
  "nbformat_minor": 0,
  "metadata": {
    "colab": {
      "provenance": [],
      "collapsed_sections": [
        "H5ALQ2H9d5qp"
      ]
    },
    "kernelspec": {
      "name": "python3",
      "display_name": "Python 3"
    },
    "language_info": {
      "name": "python"
    }
  },
  "cells": [
    {
      "cell_type": "markdown",
      "source": [
        "# Main"
      ],
      "metadata": {
        "id": "AUkms7-qd2FZ"
      }
    },
    {
      "cell_type": "code",
      "execution_count": null,
      "metadata": {
        "id": "bpPKphK819Ce"
      },
      "outputs": [],
      "source": [
        "# !pip install SpeechRecognition\n",
        "# !apt install libasound2-dev portaudio19-dev libportaudio2 libportaudiocpp0 ffmpeg\n",
        "# !pip install pyaudio\n",
        "# !pip install ffmpeg-python\n",
        "# !pip install openai\n",
        "# !pip install gTTS\n",
        "# !pip install pyttsx3 playsound"
      ]
    },
    {
      "cell_type": "code",
      "source": [
        "import pyaudio\n",
        "import speech_recognition as sr\n",
        "import ipywidgets as widgets\n",
        "from IPython.display import display\n",
        "from IPython.display import HTML, Audio\n",
        "from google.colab.output import eval_js\n",
        "from base64 import b64decode\n",
        "import numpy as np\n",
        "from scipy.io.wavfile import read as wav_read\n",
        "from scipy.io.wavfile import write as write_wav\n",
        "import io\n",
        "import ffmpeg\n",
        "from gtts import gTTS\n",
        "import os\n",
        "import openai\n",
        "openai.api_key = \"openai api key\" #https://beta.openai.com/account/api-keys\n",
        "model_engine = \"text-davinci-002\""
      ],
      "metadata": {
        "id": "PULhasSF2jFL"
      },
      "execution_count": null,
      "outputs": []
    },
    {
      "cell_type": "code",
      "source": [
        "'''https://colab.research.google.com/gist/ricardodeazambuja/03ac98c31e87caf284f7b06286ebf7fd/microphone-to-numpy-array-from-your-browser-in-colab.ipynb'''\n",
        "\n",
        "\"\"\"\n",
        "To write this piece of code I took inspiration/code from a lot of places.\n",
        "It was late night, so I'm not sure how much I created or just copied o.O\n",
        "Here are some of the possible references:\n",
        "https://blog.addpipe.com/recording-audio-in-the-browser-using-pure-html5-and-minimal-javascript/\n",
        "https://stackoverflow.com/a/18650249\n",
        "https://hacks.mozilla.org/2014/06/easy-audio-capture-with-the-mediarecorder-api/\n",
        "https://air.ghost.io/recording-to-an-audio-file-using-html5-and-js/\n",
        "https://stackoverflow.com/a/49019356\n",
        "\"\"\"\n",
        "AUDIO_HTML = \"\"\"\n",
        "<script>\n",
        "var my_div = document.createElement(\"DIV\");\n",
        "var my_p = document.createElement(\"P\");\n",
        "var my_btn = document.createElement(\"BUTTON\");\n",
        "var t = document.createTextNode(\"Press to start recording\");\n",
        "\n",
        "my_btn.appendChild(t);\n",
        "//my_p.appendChild(my_btn);\n",
        "my_div.appendChild(my_btn);\n",
        "document.body.appendChild(my_div);\n",
        "\n",
        "var base64data = 0;\n",
        "var reader;\n",
        "var recorder, gumStream;\n",
        "var recordButton = my_btn;\n",
        "\n",
        "var handleSuccess = function(stream) {\n",
        "  gumStream = stream;\n",
        "  var options = {\n",
        "    //bitsPerSecond: 8000, //chrome seems to ignore, always 48k\n",
        "    mimeType : 'audio/webm;codecs=opus'\n",
        "    //mimeType : 'audio/webm;codecs=pcm'\n",
        "  };            \n",
        "  //recorder = new MediaRecorder(stream, options);\n",
        "  recorder = new MediaRecorder(stream);\n",
        "  recorder.ondataavailable = function(e) {            \n",
        "    var url = URL.createObjectURL(e.data);\n",
        "    var preview = document.createElement('audio');\n",
        "    preview.controls = true;\n",
        "    preview.src = url;\n",
        "    document.body.appendChild(preview);\n",
        "\n",
        "    reader = new FileReader();\n",
        "    reader.readAsDataURL(e.data); \n",
        "    reader.onloadend = function() {\n",
        "      base64data = reader.result;\n",
        "      //console.log(\"Inside FileReader:\" + base64data);\n",
        "    }\n",
        "  };\n",
        "  recorder.start();\n",
        "  };\n",
        "\n",
        "recordButton.innerText = \"Recording... press to stop\";\n",
        "\n",
        "navigator.mediaDevices.getUserMedia({audio: true}).then(handleSuccess);\n",
        "\n",
        "\n",
        "function toggleRecording() {\n",
        "  if (recorder && recorder.state == \"recording\") {\n",
        "      recorder.stop();\n",
        "      gumStream.getAudioTracks()[0].stop();\n",
        "      recordButton.innerText = \"Saving the recording... pls wait!\"\n",
        "  }\n",
        "}\n",
        "\n",
        "// https://stackoverflow.com/a/951057\n",
        "function sleep(ms) {\n",
        "  return new Promise(resolve => setTimeout(resolve, ms));\n",
        "}\n",
        "\n",
        "var data = new Promise(resolve=>{\n",
        "//recordButton.addEventListener(\"click\", toggleRecording);\n",
        "recordButton.onclick = ()=>{\n",
        "toggleRecording()\n",
        "\n",
        "sleep(2000).then(() => {\n",
        "  // wait 2000ms for the data to be available...\n",
        "  // ideally this should use something like await...\n",
        "  //console.log(\"Inside data:\" + base64data)\n",
        "  resolve(base64data.toString())\n",
        "\n",
        "});\n",
        "\n",
        "}\n",
        "});\n",
        "      \n",
        "</script>\n",
        "\"\"\"\n",
        "\n",
        "def get_audio():\n",
        "  display(HTML(AUDIO_HTML))\n",
        "  data = eval_js(\"data\")\n",
        "  binary = b64decode(data.split(',')[1])\n",
        "  \n",
        "  process = (ffmpeg\n",
        "    .input('pipe:0')\n",
        "    .output('pipe:1', format='wav')\n",
        "    .run_async(pipe_stdin=True, pipe_stdout=True, pipe_stderr=True, quiet=True, overwrite_output=True)\n",
        "  )\n",
        "  output, err = process.communicate(input=binary)\n",
        "  riff_chunk_size = len(output) - 8\n",
        "  # Break up the chunk size into four bytes, held in b.\n",
        "  q = riff_chunk_size\n",
        "  b = []\n",
        "  for i in range(4):\n",
        "      q, r = divmod(q, 256)\n",
        "      b.append(r)\n",
        "\n",
        "  # Replace bytes 4:8 in proc.stdout with the actual size of the RIFF chunk.\n",
        "  riff = output[:4] + bytes(b) + output[8:]\n",
        "\n",
        "  sr, audio = wav_read(io.BytesIO(riff))\n",
        "  write_wav('voice_input.wav', sr, audio)\n",
        "#   return audio, sr"
      ],
      "metadata": {
        "id": "iIRjxR1n3mhj"
      },
      "execution_count": null,
      "outputs": []
    },
    {
      "cell_type": "code",
      "source": [
        "def voice2text():\n",
        "    get_audio()\n",
        "    recog = sr.Recognizer()\n",
        "    with sr.AudioFile('/content/voice_input.wav') as source:\n",
        "        audio = recog.record(source)  # read the entire audio file\n",
        "    \n",
        "    text = recog.recognize_google(audio,show_all=False, with_confidence=False)\n",
        "    return text"
      ],
      "metadata": {
        "id": "rPZRKHnYL_KE"
      },
      "execution_count": null,
      "outputs": []
    },
    {
      "cell_type": "code",
      "source": [
        "'''https://www.kaggle.com/code/abdalrahmanshahrour/chatgpt-api'''\n",
        "\n",
        "def _get_ans_from_response(response:openai.openai_object.OpenAIObject) -> str:\n",
        "    first = dict(response)['choices']\n",
        "    sec = dict(first[0])\n",
        "    return sec['text']\n",
        "\n",
        "def _getter(model_engine:str = model_engine,prompt:str = \"\") -> str:\n",
        "    # Send the request to the Chat GPT API\n",
        "    response = openai.Completion.create(\n",
        "                          engine=model_engine,\n",
        "                          prompt=prompt,\n",
        "                          max_tokens=1024\n",
        "                          )\n",
        "    return _get_ans_from_response(response)"
      ],
      "metadata": {
        "id": "CGR5iXNAT7-S"
      },
      "execution_count": null,
      "outputs": []
    },
    {
      "cell_type": "code",
      "source": [
        "def ask():\n",
        "    resp = _getter(prompt=voice2text())\n",
        "    text2speech = gTTS(text=resp, lang='en', slow=False)\n",
        "    text2speech.save('voice_output.mp3')\n",
        "\n",
        "def answer():\n",
        "    return Audio(\"voice_output.mp3\", autoplay=True)\n",
        "\n",
        "def q_and_a():\n",
        "    ask()\n",
        "    return answer()"
      ],
      "metadata": {
        "id": "-OCgZ-inVZE7"
      },
      "execution_count": null,
      "outputs": []
    },
    {
      "cell_type": "markdown",
      "source": [
        "# User"
      ],
      "metadata": {
        "id": "H5ALQ2H9d5qp"
      }
    },
    {
      "cell_type": "code",
      "source": [
        "q_and_a()"
      ],
      "metadata": {
        "colab": {
          "base_uri": "https://localhost:8080/",
          "height": 311
        },
        "id": "jfaLyq7-b10L",
        "outputId": "3791754e-9c08-436a-c5f3-45f8c6f90607"
      },
      "execution_count": null,
      "outputs": [
        {
          "output_type": "display_data",
          "data": {
            "text/plain": [
              "<IPython.core.display.HTML object>"
            ],
            "text/html": [
              "\n",
              "<script>\n",
              "var my_div = document.createElement(\"DIV\");\n",
              "var my_p = document.createElement(\"P\");\n",
              "var my_btn = document.createElement(\"BUTTON\");\n",
              "var t = document.createTextNode(\"Press to start recording\");\n",
              "\n",
              "my_btn.appendChild(t);\n",
              "//my_p.appendChild(my_btn);\n",
              "my_div.appendChild(my_btn);\n",
              "document.body.appendChild(my_div);\n",
              "\n",
              "var base64data = 0;\n",
              "var reader;\n",
              "var recorder, gumStream;\n",
              "var recordButton = my_btn;\n",
              "\n",
              "var handleSuccess = function(stream) {\n",
              "  gumStream = stream;\n",
              "  var options = {\n",
              "    //bitsPerSecond: 8000, //chrome seems to ignore, always 48k\n",
              "    mimeType : 'audio/webm;codecs=opus'\n",
              "    //mimeType : 'audio/webm;codecs=pcm'\n",
              "  };            \n",
              "  //recorder = new MediaRecorder(stream, options);\n",
              "  recorder = new MediaRecorder(stream);\n",
              "  recorder.ondataavailable = function(e) {            \n",
              "    var url = URL.createObjectURL(e.data);\n",
              "    var preview = document.createElement('audio');\n",
              "    preview.controls = true;\n",
              "    preview.src = url;\n",
              "    document.body.appendChild(preview);\n",
              "\n",
              "    reader = new FileReader();\n",
              "    reader.readAsDataURL(e.data); \n",
              "    reader.onloadend = function() {\n",
              "      base64data = reader.result;\n",
              "      //console.log(\"Inside FileReader:\" + base64data);\n",
              "    }\n",
              "  };\n",
              "  recorder.start();\n",
              "  };\n",
              "\n",
              "recordButton.innerText = \"Recording... press to stop\";\n",
              "\n",
              "navigator.mediaDevices.getUserMedia({audio: true}).then(handleSuccess);\n",
              "\n",
              "\n",
              "function toggleRecording() {\n",
              "  if (recorder && recorder.state == \"recording\") {\n",
              "      recorder.stop();\n",
              "      gumStream.getAudioTracks()[0].stop();\n",
              "      recordButton.innerText = \"Saving the recording... pls wait!\"\n",
              "  }\n",
              "}\n",
              "\n",
              "// https://stackoverflow.com/a/951057\n",
              "function sleep(ms) {\n",
              "  return new Promise(resolve => setTimeout(resolve, ms));\n",
              "}\n",
              "\n",
              "var data = new Promise(resolve=>{\n",
              "//recordButton.addEventListener(\"click\", toggleRecording);\n",
              "recordButton.onclick = ()=>{\n",
              "toggleRecording()\n",
              "\n",
              "sleep(2000).then(() => {\n",
              "  // wait 2000ms for the data to be available...\n",
              "  // ideally this should use something like await...\n",
              "  //console.log(\"Inside data:\" + base64data)\n",
              "  resolve(base64data.toString())\n",
              "\n",
              "});\n",
              "\n",
              "}\n",
              "});\n",
              "      \n",
              "</script>\n"
            ]
          },
          "metadata": {}
        },
        {
          "output_type": "stream",
          "name": "stdout",
          "text": [
            "result2:\n",
            "{   'alternative': [   {   'confidence': 0.91571152,\n",
            "                           'transcript': 'how to prevent cats from Conquering '\n",
            "                                         'the Earth'},\n",
            "                       {   'transcript': 'how to prevent cat from Conquering '\n",
            "                                         'the Earth'},\n",
            "                       {   'transcript': 'how to prevent cap from Conquering '\n",
            "                                         'the Earth'}],\n",
            "    'final': True}\n"
          ]
        },
        {
          "output_type": "execute_result",
          "data": {
            "text/plain": [
              "<IPython.lib.display.Audio object>"
            ],
            "text/html": [
              "\n",
              "                <audio  controls=\"controls\" autoplay=\"autoplay\">\n",
              "                    <source src=\"data:audio/mpeg;base64,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\" type=\"audio/mpeg\" />\n",
              "                    Your browser does not support the audio element.\n",
              "                </audio>\n",
              "              "
            ]
          },
          "metadata": {},
          "execution_count": 70
        }
      ]
    }
  ]
}